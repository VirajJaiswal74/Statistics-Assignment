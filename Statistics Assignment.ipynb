{
 "cells": [
  {
   "cell_type": "code",
   "execution_count": 1,
   "id": "51a1b8c2-a29f-4cc1-a998-690fcfc66ae2",
   "metadata": {},
   "outputs": [
    {
     "name": "stdout",
     "output_type": "stream",
     "text": [
      "[104, 112, 118, 95, 116, 91, 126, 109, 95, 111, 129, 128, 98, 94, 116, 104, 118, 129, 124, 121, 127, 105, 114, 120, 115, 119, 98, 123, 103, 129, 127, 106, 92, 115, 102, 107, 108, 97, 130, 107, 90, 122, 110, 103, 121, 104, 91, 99, 113, 106, 107, 96, 115, 108, 124, 114, 108, 105, 101, 126, 123, 93, 115, 95, 110, 108, 102, 108, 128, 105, 124, 98, 118, 97, 122, 117, 95, 93, 99, 124, 121, 104, 113, 117, 129, 126, 123, 105, 93, 116, 117, 115, 124, 125, 103, 109, 116, 112, 96, 100]\n"
     ]
    }
   ],
   "source": [
    "# 1 .Generate a list of 100 integers containing values between 90 to 130 and store it in the variable `int_list`. After generating the list, find the following:\n",
    "\n",
    "import random\n",
    "numbers = [random.randint(90, 130) for _ in range(100)]\n",
    "print(numbers)"
   ]
  },
  {
   "cell_type": "code",
   "execution_count": 2,
   "id": "94b9696d-146a-4331-90c3-b17b10dea8cb",
   "metadata": {},
   "outputs": [
    {
     "name": "stdout",
     "output_type": "stream",
     "text": [
      "110.83\n",
      "110.5\n"
     ]
    }
   ],
   "source": [
    "# (i) Write a Python function to calculate the mean of a given list of numbers.Create a function to find the median of a list of numbers.\n",
    "\n",
    "# Function for calculate Mean\n",
    "\n",
    "def calculate_mean(numbers):\n",
    "    return sum(numbers) / len(numbers)\n",
    "\n",
    "# Function for calculate Median\n",
    "\n",
    "def calculate_median(numbers):\n",
    "    sorted_numbers = sorted(numbers)\n",
    "    n = len(sorted_numbers)\n",
    "    middle = n // 2\n",
    "\n",
    "    if n % 2 == 0:\n",
    "        # Even number of elements\n",
    "        return (sorted_numbers[middle - 1] + sorted_numbers[middle]) / 2\n",
    "    else:\n",
    "        # Odd number of elements\n",
    "        return sorted_numbers[middle]\n",
    "    \n",
    "print(calculate_mean(numbers))\n",
    "print(calculate_median(numbers))"
   ]
  },
  {
   "cell_type": "code",
   "execution_count": 3,
   "id": "ba73cbb9-7d5f-422f-9782-f71ca8bc3081",
   "metadata": {},
   "outputs": [
    {
     "data": {
      "text/plain": [
       "[124, 115, 108]"
      ]
     },
     "execution_count": 3,
     "metadata": {},
     "output_type": "execute_result"
    }
   ],
   "source": [
    "# (ii) Develop a program to compute the mode of a list of integers.\n",
    "\n",
    "from collections import Counter\n",
    "\n",
    "def calculate_mode(numbers):\n",
    "    frequency = Counter(numbers)\n",
    "    max_frequency = max(frequency.values())\n",
    "    modes = [key for key, count in frequency.items() if count == max_frequency]\n",
    "    return modes\n",
    "\n",
    "calculate_mode(numbers)"
   ]
  },
  {
   "cell_type": "code",
   "execution_count": 4,
   "id": "3b0ea3b7-81aa-4ba3-84de-bcd0bec609bd",
   "metadata": {},
   "outputs": [
    {
     "data": {
      "text/plain": [
       "6.141176470588236"
      ]
     },
     "execution_count": 4,
     "metadata": {},
     "output_type": "execute_result"
    }
   ],
   "source": [
    "# (iii) Implement a function to calculate the weighted mean of a list of values and their corresponding weights.\n",
    "\n",
    "values = [random.randint(1, 10) for _ in range(15)]\n",
    "weights = [random.randint(1, 10) for _ in range(15)]\n",
    "\n",
    "def calculate_weighted_mean(values, weights):\n",
    "    if len(values) != len(weights):\n",
    "        raise ValueError(\"The lengths of values and weights must be equal.\")\n",
    "    weighted_sum = sum(value * weight for value, weight in zip(values, weights))\n",
    "    total_weight = sum(weights)\n",
    "    return weighted_sum / total_weight\n",
    "\n",
    "calculate_weighted_mean(values, weights)"
   ]
  },
  {
   "cell_type": "code",
   "execution_count": 5,
   "id": "6d3487ba-1525-44c9-ada6-58d862ecb846",
   "metadata": {},
   "outputs": [
    {
     "data": {
      "text/plain": [
       "110.2536365370271"
      ]
     },
     "execution_count": 5,
     "metadata": {},
     "output_type": "execute_result"
    }
   ],
   "source": [
    "# (iv) Write a Python function to find the geometric mean of a list of positive numbers\n",
    "\n",
    "import math\n",
    "\n",
    "def calculate_geometric_mean(numbers):\n",
    "    product = math.prod(numbers)\n",
    "    return product ** (1 / len(numbers))\n",
    "\n",
    "calculate_geometric_mean(numbers)"
   ]
  },
  {
   "cell_type": "code",
   "execution_count": 6,
   "id": "7afd6e99-06f2-4657-8c0a-6e84b88c6530",
   "metadata": {},
   "outputs": [
    {
     "data": {
      "text/plain": [
       "109.67266706002388"
      ]
     },
     "execution_count": 6,
     "metadata": {},
     "output_type": "execute_result"
    }
   ],
   "source": [
    "# (v) Create a program to calculate the harmonic mean of a list of values.\n",
    "\n",
    "def calculate_harmonic_mean(numbers):\n",
    "    reciprocal_sum = sum(1 / num for num in numbers)\n",
    "    return len(numbers) / reciprocal_sum\n",
    "\n",
    "calculate_harmonic_mean(numbers)"
   ]
  },
  {
   "cell_type": "code",
   "execution_count": 7,
   "id": "9fc89d95-84c7-4ded-8051-c05966758e67",
   "metadata": {},
   "outputs": [
    {
     "data": {
      "text/plain": [
       "110.0"
      ]
     },
     "execution_count": 7,
     "metadata": {},
     "output_type": "execute_result"
    }
   ],
   "source": [
    "# (vi) Build a function to determine the midrange of a list of numbers (average of the minimum and maximum).\n",
    "\n",
    "def calculate_midrange(numbers):\n",
    "    return (min(numbers) + max(numbers)) / 2\n",
    "\n",
    "calculate_midrange(numbers)"
   ]
  },
  {
   "cell_type": "code",
   "execution_count": 8,
   "id": "20f5c9e4-c256-48a4-affb-669b019fd1e4",
   "metadata": {},
   "outputs": [
    {
     "data": {
      "text/plain": [
       "110.925"
      ]
     },
     "execution_count": 8,
     "metadata": {},
     "output_type": "execute_result"
    }
   ],
   "source": [
    "# (vii) Implement a Python program to find the trimmed mean of a list, excluding a certain percentage of outliers.\n",
    "\n",
    "def calculate_trimmed_mean(numbers, trim_percent):\n",
    "    sorted_numbers = sorted(numbers)\n",
    "    trim_count = int(len(numbers) * trim_percent / 100)\n",
    "    trimmed_numbers = sorted_numbers[trim_count:-trim_count]\n",
    "    return calculate_mean(trimmed_numbers)\n",
    "\n",
    "calculate_trimmed_mean(numbers, 10)"
   ]
  },
  {
   "cell_type": "code",
   "execution_count": 9,
   "id": "2a7689c7-1903-4e10-8b32-a8e55a124d8b",
   "metadata": {},
   "outputs": [
    {
     "name": "stdout",
     "output_type": "stream",
     "text": [
      "[211, 213, 300, 285, 285, 294, 243, 258, 218, 226, 215, 242, 233, 272, 278, 282, 221, 267, 242, 288, 216, 290, 285, 276, 260, 281, 275, 290, 225, 236, 219, 290, 202, 299, 202, 216, 281, 282, 268, 291, 261, 221, 300, 246, 271, 290, 227, 213, 210, 206, 216, 271, 257, 299, 217, 212, 233, 238, 220, 283, 230, 286, 207, 241, 211, 235, 213, 208, 299, 229, 250, 224, 228, 281, 228, 241, 277, 219, 268, 275, 270, 200, 293, 296, 201, 234, 292, 210, 221, 219, 245, 276, 265, 283, 222, 256, 233, 234, 293, 215, 251, 266, 273, 295, 285, 210, 247, 254, 297, 285, 231, 218, 300, 293, 281, 228, 283, 296, 294, 238, 271, 275, 250, 250, 287, 223, 226, 251, 250, 293, 300, 259, 296, 246, 231, 201, 226, 298, 220, 285, 258, 242, 220, 250, 220, 252, 231, 221, 275, 295, 229, 272, 230, 266, 287, 219, 215, 292, 279, 260, 292, 235, 232, 215, 291, 223, 298, 263, 280, 292, 269, 212, 221, 217, 295, 200, 247, 295, 244, 254, 220, 247, 227, 212, 271, 252, 224, 285, 204, 204, 217, 230, 292, 237, 298, 238, 271, 234, 278, 282, 229, 263, 276, 234, 286, 265, 281, 283, 209, 288, 228, 266, 259, 238, 297, 225, 209, 298, 212, 262, 262, 264, 283, 211, 268, 288, 209, 227, 271, 269, 260, 254, 259, 263, 290, 230, 246, 202, 291, 241, 290, 235, 218, 288, 282, 211, 274, 204, 201, 287, 298, 223, 244, 248, 230, 264, 270, 251, 220, 246, 267, 216, 206, 283, 240, 224, 216, 278, 244, 273, 209, 296, 288, 219, 232, 204, 284, 248, 204, 237, 230, 201, 204, 291, 223, 244, 251, 273, 276, 230, 226, 294, 288, 279, 203, 240, 266, 219, 205, 249, 236, 267, 257, 254, 255, 299, 248, 220, 261, 268, 290, 251, 293, 231, 247, 268, 232, 266, 211, 235, 263, 262, 274, 272, 281, 250, 205, 219, 261, 255, 236, 262, 208, 274, 291, 299, 207, 291, 211, 249, 272, 239, 256, 295, 235, 268, 218, 215, 282, 285, 275, 279, 275, 274, 298, 212, 221, 241, 287, 207, 274, 299, 216, 217, 274, 212, 203, 209, 266, 226, 289, 216, 217, 238, 232, 275, 260, 236, 263, 282, 294, 219, 269, 247, 293, 252, 297, 228, 276, 276, 258, 272, 250, 239, 270, 284, 297, 213, 239, 298, 255, 248, 276, 237, 284, 204, 200, 246, 251, 286, 291, 240, 259, 230, 201, 286, 209, 237, 232, 280, 265, 226, 276, 218, 297, 290, 245, 203, 201, 261, 254, 261, 211, 268, 254, 215, 259, 281, 214, 277, 273, 280, 236, 231, 261, 229, 270, 224, 229, 274, 263, 280, 295, 288, 276, 271, 214, 209, 297, 206, 219, 230, 211, 280, 231, 238, 284, 234, 222, 254, 255, 237, 250, 204, 289, 215, 259, 296, 266, 277, 212, 290, 283, 257, 296, 240, 249, 259, 227, 285, 263, 278, 249, 228, 207, 263, 292, 238, 209, 214]\n"
     ]
    }
   ],
   "source": [
    "# 2. Generate a list of 500 integers containing values between 200 to 300 and store it in the variable `int_list2`. After generating the list, find the following:\n",
    "\n",
    "numbers = [random.randint(200, 300) for _ in range(500)]\n",
    "print(numbers)"
   ]
  },
  {
   "cell_type": "code",
   "execution_count": 10,
   "id": "2689aa92-2278-46b5-a69c-a6f969e73a55",
   "metadata": {},
   "outputs": [
    {
     "name": "stderr",
     "output_type": "stream",
     "text": [
      "C:\\Users\\viraj\\AppData\\Local\\Temp\\ipykernel_72772\\2440729828.py:24: FutureWarning: \n",
      "\n",
      "`shade` is now deprecated in favor of `fill`; setting `fill=True`.\n",
      "This will become an error in seaborn v0.14.0; please update your code.\n",
      "\n",
      "  sns.kdeplot(numbers, shade = True, color = 'green')\n"
     ]
    },
    {
     "data": {
      "image/png": "[encoded data removed]",
      "text/plain": [
       "<Figure size 1500x500 with 3 Axes>"
      ]
     },
     "metadata": {},
     "output_type": "display_data"
    }
   ],
   "source": [
    "# (i) Compare the given list of visualization for the given data:\n",
    "\n",
    "import matplotlib.pyplot as plt\n",
    "import seaborn as sns\n",
    "import numpy as np\n",
    "\n",
    "# 1. Frequency & Gaussian distribution\n",
    "\n",
    "plt.figure(figsize = (15, 5))\n",
    "plt.subplot(1, 3, 1)\n",
    "plt.hist(numbers, bins = 20, color = 'skyblue', edgecolor = 'black', alpha = 0.7)\n",
    "plt.title('Frequency Distribution')\n",
    "\n",
    "# 2. Frequency smoothened KDE plot\n",
    "\n",
    "plt.subplot(1, 3, 2)\n",
    "sns.histplot(numbers, kde = True, stat = 'density', bins = 20, color = 'lightcoral')\n",
    "sns.kdeplot(numbers, color = 'blue')\n",
    "plt.title('Frequency & Gaussian Distribution')\n",
    "\n",
    "# 3. Gaussian distribution & smoothened KDE plot\n",
    "\n",
    "plt.subplot(1, 3, 3)\n",
    "sns.kdeplot(numbers, shade = True, color = 'green')\n",
    "plt.title(\"Smoothened KDE Plot\")\n",
    "\n",
    "plt.tight_layout()\n",
    "plt.show()"
   ]
  },
  {
   "cell_type": "code",
   "execution_count": 11,
   "id": "c3b84d4e-d7c2-4817-b819-689fc63e8d2f",
   "metadata": {},
   "outputs": [
    {
     "data": {
      "text/plain": [
       "100"
      ]
     },
     "execution_count": 11,
     "metadata": {},
     "output_type": "execute_result"
    }
   ],
   "source": [
    "# (ii) Write a Python function to calculate the range of a given list of numbers.\n",
    "\n",
    "def calculate_range(numbers):\n",
    "    return max(numbers) - min(numbers)\n",
    "\n",
    "calculate_range(numbers)"
   ]
  },
  {
   "cell_type": "code",
   "execution_count": 12,
   "id": "0680ce97-3745-4871-88aa-5b63ffd4000c",
   "metadata": {},
   "outputs": [
    {
     "data": {
      "text/plain": [
       "(889.271824, 29.820661025537312)"
      ]
     },
     "execution_count": 12,
     "metadata": {},
     "output_type": "execute_result"
    }
   ],
   "source": [
    "# (iii) Create a program to find the variance and standard deviation of a list of numbers.\n",
    "\n",
    "def calculate_variance_and_std(numbers):\n",
    "    mean = sum(numbers) / len(numbers)\n",
    "    variance = sum((x - mean) ** 2 for x in numbers) / len(numbers)\n",
    "    std_dev = variance ** 0.5\n",
    "    return variance, std_dev\n",
    "\n",
    "calculate_variance_and_std(numbers)"
   ]
  },
  {
   "cell_type": "code",
   "execution_count": 13,
   "id": "b2be155a-a976-4d40-8a95-b27a8af653b7",
   "metadata": {},
   "outputs": [
    {
     "data": {
      "text/plain": [
       "np.float64(52.5)"
      ]
     },
     "execution_count": 13,
     "metadata": {},
     "output_type": "execute_result"
    }
   ],
   "source": [
    "# (iv) Implement a function to compute the interquartile range (IQR) of a list of values.\n",
    "\n",
    "def calculate_iqr(numbers):\n",
    "    sorted_numbers = sorted(numbers)\n",
    "    q1 = np.percentile(sorted_numbers, 25)\n",
    "    q3 = np.percentile(sorted_numbers, 75)\n",
    "    return q3 - q1\n",
    "\n",
    "calculate_iqr(numbers)"
   ]
  },
  {
   "cell_type": "code",
   "execution_count": 14,
   "id": "5f6527bb-f259-4fca-8d51-b7f5d32be29c",
   "metadata": {},
   "outputs": [
    {
     "data": {
      "text/plain": [
       "11.846570460320555"
      ]
     },
     "execution_count": 14,
     "metadata": {},
     "output_type": "execute_result"
    }
   ],
   "source": [
    "# (v) Build a program to calculate the coefficient of variation for a dataset.\n",
    "\n",
    "def calculate_cv(numbers):\n",
    "    mean = sum(numbers) / len(numbers)\n",
    "    _, std_dev = calculate_variance_and_std(numbers)\n",
    "    return (std_dev / mean) * 100\n",
    "\n",
    "calculate_cv(numbers)"
   ]
  },
  {
   "cell_type": "code",
   "execution_count": 15,
   "id": "e7dbd25c-61f5-4879-80c4-bff6086b6ab5",
   "metadata": {},
   "outputs": [
    {
     "data": {
      "text/plain": [
       "26.289104"
      ]
     },
     "execution_count": 15,
     "metadata": {},
     "output_type": "execute_result"
    }
   ],
   "source": [
    "# (vi) Write a Python function to find the mean absolute deviation (MAD) of a list of numbers\n",
    "\n",
    "def calculate_mad(numbers):\n",
    "    mean = sum(numbers) / len(numbers)\n",
    "    mad = sum(abs(x - mean) for x in numbers) / len(numbers)\n",
    "    return mad\n",
    "\n",
    "calculate_mad(numbers)"
   ]
  },
  {
   "cell_type": "code",
   "execution_count": 16,
   "id": "160fc6a9-ce27-4621-8af5-7b075ed863a6",
   "metadata": {},
   "outputs": [
    {
     "data": {
      "text/plain": [
       "np.float64(26.25)"
      ]
     },
     "execution_count": 16,
     "metadata": {},
     "output_type": "execute_result"
    }
   ],
   "source": [
    "# (vii) Create a program to calculate the quartile deviation of a list of values.\n",
    "\n",
    "def calculate_quartile_deviation(numbers):\n",
    "    iqr = calculate_iqr(numbers)\n",
    "    return iqr / 2\n",
    "\n",
    "calculate_quartile_deviation(numbers)"
   ]
  },
  {
   "cell_type": "code",
   "execution_count": 17,
   "id": "339e28e6-e901-4541-97d5-8ceae4b76909",
   "metadata": {},
   "outputs": [
    {
     "data": {
      "text/plain": [
       "39.72604916495845"
      ]
     },
     "execution_count": 17,
     "metadata": {},
     "output_type": "execute_result"
    }
   ],
   "source": [
    "# (viii) Implement a function to find the range-based coefficient of dispersion for a dataset.\n",
    "\n",
    "def range_based_dispersion(numbers):\n",
    "    range_value = calculate_range(numbers)\n",
    "    mean = sum(numbers) / len(numbers)\n",
    "    return (range_value / mean) * 100\n",
    "\n",
    "range_based_dispersion(numbers)"
   ]
  },
  {
   "cell_type": "code",
   "execution_count": 18,
   "id": "d603413d-54b1-46a6-8fe9-da889e108f0a",
   "metadata": {},
   "outputs": [
    {
     "name": "stdout",
     "output_type": "stream",
     "text": [
      "Expected Value: 2.9000000000000004\n",
      "Variance: 0.89\n"
     ]
    }
   ],
   "source": [
    "# 3. Write a Python class representing a discrete random variable with methods to calculate its expectedvalue and variance.\n",
    "\n",
    "class DiscreteRandomVariable:\n",
    "    def __init__(self, values, probabilities):\n",
    "\n",
    "        if len(values) != len(probabilities):\n",
    "            raise ValueError(\"Values and probabilities must have the same length.\")\n",
    "        if not(0 <= sum(probabilities) <= 1):\n",
    "            raise ValueError(\"The sum of probabilities must be 1.\")\n",
    "\n",
    "        self.values = values\n",
    "        self.probabilities = probabilities\n",
    "\n",
    "    def expected_value(self):\n",
    "        return sum(value * prob for value, prob in zip(self.values, self.probabilities))\n",
    "\n",
    "    def variance(self):\n",
    "        mean = self.expected_value()\n",
    "        return sum(prob * (value - mean) ** 2 for value, prob in zip(self.values, self.probabilities))\n",
    "\n",
    "values = [1, 2, 3, 4]\n",
    "probabilities = [0.1, 0.2, 0.4, 0.3]\n",
    "\n",
    "rv = DiscreteRandomVariable(values, probabilities)\n",
    "print(\"Expected Value:\", rv.expected_value())\n",
    "print(\"Variance:\", rv.variance())"
   ]
  },
  {
   "cell_type": "code",
   "execution_count": 19,
   "id": "52d58510-46e8-4079-8acf-f6b3ae6a0613",
   "metadata": {},
   "outputs": [
    {
     "name": "stdout",
     "output_type": "stream",
     "text": [
      "Theoretical Expected Value: 3.5\n",
      "Theoretical Variance: 2.9166666666666665\n",
      "Empirical Expected Value (from 10000 rolls): 3.4746\n",
      "Empirical Variance (from 10000 rolls): 2.94355484\n"
     ]
    }
   ],
   "source": [
    "# 4. Implement a program to simulate the rolling of a fair six-sided die and calculate the expected value andvariance of the outcomes.\n",
    "\n",
    "import random\n",
    "\n",
    "class DieSimulation:\n",
    "    def __init__(self, sides=6):\n",
    "        self.sides = sides\n",
    "        self.values = list(range(1, sides + 1))\n",
    "        self.probabilities = [1 / sides] * sides  # Equal probability for a fair die\n",
    "\n",
    "    def roll(self, num_rolls):\n",
    "        return [random.choice(self.values) for _ in range(num_rolls)]\n",
    "\n",
    "    def theoretical_expected_value(self):\n",
    "         return sum(value * prob for value, prob in zip(self.values, self.probabilities))\n",
    "\n",
    "    def theoretical_variance(self):\n",
    "         mean = self.theoretical_expected_value()\n",
    "         return sum(prob * (value - mean) ** 2 for value, prob in zip(self.values, self.probabilities))\n",
    "\n",
    "    def calculate_statistics(self, outcomes):\n",
    "        mean = sum(outcomes) / len(outcomes)\n",
    "        variance = sum((x - mean) ** 2 for x in outcomes) / len(outcomes)\n",
    "        return mean, variance\n",
    "\n",
    "\n",
    "# Simulation\n",
    "num_rolls = 10000\n",
    "die_sim = DieSimulation()\n",
    "\n",
    "# Simulate rolls\n",
    "outcomes = die_sim.roll(num_rolls)\n",
    "\n",
    "# Calculate theoretical values\n",
    "theoretical_ev = die_sim.theoretical_expected_value()\n",
    "theoretical_var = die_sim.theoretical_variance()\n",
    "\n",
    "# Calculate empirical values\n",
    "empirical_ev, empirical_var = die_sim.calculate_statistics(outcomes)\n",
    "\n",
    "# Display results\n",
    "print(f\"Theoretical Expected Value: {theoretical_ev}\")\n",
    "print(f\"Theoretical Variance: {theoretical_var}\")\n",
    "print(f\"Empirical Expected Value (from {num_rolls} rolls): {empirical_ev}\")\n",
    "print(f\"Empirical Variance (from {num_rolls} rolls): {empirical_var}\")\n"
   ]
  },
  {
   "cell_type": "code",
   "execution_count": 20,
   "id": "c931f281-9a86-4295-910c-9f354589a9dc",
   "metadata": {},
   "outputs": [
    {
     "name": "stdout",
     "output_type": "stream",
     "text": [
      "Binomial Distribution:\n",
      "Mean: 5.077, Variance: 2.515071\n",
      "\n",
      "Poisson Distribution:\n",
      "Mean: 5.049, Variance: 4.4905990000000005\n"
     ]
    }
   ],
   "source": [
    "# 5. Create a Python function to generate random samples from a given probability distribution (e.g., binomial, Poisson) and calculate their mean and variance.\n",
    "\n",
    "from scipy.stats import binom, poisson\n",
    "\n",
    "def generate_samples(distribution, params, size = 1000):\n",
    "    \n",
    "    if distribution == 'binomial':\n",
    "       n = params.get('n')\n",
    "       p = params.get('p')\n",
    "       samples = binom.rvs(n=n, p=p, size=size)\n",
    "    elif distribution == 'poisson':\n",
    "        mu = params.get('mu')\n",
    "        samples = poisson.rvs(mu=mu, size=size)\n",
    "    else:\n",
    "      raise ValueError(\"Supported distributions are 'binomial' and 'poisson'\")\n",
    "\n",
    "    mean = np.mean(samples)\n",
    "    variance = np.var(samples)\n",
    "\n",
    "    return samples, mean, variance\n",
    "\n",
    "binom_samples, binom_mean, binom_variance = generate_samples(\n",
    "    distribution = 'binomial',\n",
    "    params = {'n': 10, 'p': 0.5},\n",
    "    size = 1000\n",
    ")\n",
    "\n",
    "print(\"Binomial Distribution:\")\n",
    "print(f\"Mean: {binom_mean}, Variance: {binom_variance}\")\n",
    "\n",
    "poisson_samples, poisson_mean, poisson_variance = generate_samples(\n",
    "    distribution = 'poisson',\n",
    "    params = {'mu': 5},\n",
    "    size = 1000\n",
    ")\n",
    "\n",
    "print(\"\\nPoisson Distribution:\")\n",
    "print(f\"Mean: {poisson_mean}, Variance: {poisson_variance}\")"
   ]
  },
  {
   "cell_type": "code",
   "execution_count": 21,
   "id": "16e22c8c-871c-4a75-b09f-29173ceed35d",
   "metadata": {},
   "outputs": [
    {
     "name": "stdout",
     "output_type": "stream",
     "text": [
      "Generated Statistics:\n",
      "Mean: -0.039741351907400496\n",
      "Variance: 0.9894134264027923\n",
      "Standard Deviation: 0.9946926291085062\n"
     ]
    }
   ],
   "source": [
    "# 6. Write a Python script to generate random numbers from a Gaussian (normal) distribution and compute the mean, variance, and standard deviation of the samples.\n",
    "\n",
    "def generate_gaussian_samples(mean, std_dev, size = 1000):\n",
    "\n",
    "    samples = np.random.normal(loc = mean, scale = std_dev, size = size)\n",
    "    sample_mean = np.mean(samples)\n",
    "    sample_variance = np.var(samples)\n",
    "    sample_std_dev = np.std(samples)\n",
    "\n",
    "    return {\n",
    "        'samples': samples,\n",
    "        'mean': sample_mean,\n",
    "        'variance': sample_variance,\n",
    "        'std_dev': sample_std_dev\n",
    "    }\n",
    "\n",
    "mean = 0\n",
    "std_dev = 1\n",
    "size = 1000\n",
    "\n",
    "stats = generate_gaussian_samples(mean, std_dev, size)\n",
    "\n",
    "print(\"Generated Statistics:\")\n",
    "print(f\"Mean: {stats['mean']}\")\n",
    "print(f\"Variance: {stats['variance']}\")\n",
    "print(f\"Standard Deviation: {stats['std_dev']}\")"
   ]
  },
  {
   "cell_type": "code",
   "execution_count": 22,
   "id": "b408391d-9174-4741-925e-27aeb1607698",
   "metadata": {},
   "outputs": [],
   "source": [
    "# 7. Use seaborn library to load tips dataset. Find the following from the dataset for the columns total_bill and tip`:\n",
    "\n",
    "import seaborn as sns\n",
    "import pandas as pd\n",
    "import numpy as np\n",
    "import matplotlib.pyplot as plt\n",
    "\n",
    "data = sns.load_dataset('tips')"
   ]
  },
  {
   "cell_type": "code",
   "execution_count": 23,
   "id": "bb4c1809-9bc0-4f84-9ec7-aadc8bd97138",
   "metadata": {},
   "outputs": [
    {
     "name": "stdout",
     "output_type": "stream",
     "text": [
      "Total Bill Skewness: 1.1332130376158205\n",
      "Tip Skewness: 1.4654510370979392\n"
     ]
    }
   ],
   "source": [
    "# (i) Write a Python function that calculates their skewness.\n",
    "\n",
    "def calculate_skewness(column):\n",
    "\n",
    "    mean = np.mean(column)\n",
    "    std_dev = np.std(column, ddof = 1)\n",
    "    n = len(column)\n",
    "    skewness = (n * np.sum(((column - mean) / std_dev) ** 3)) / ((n - 1) * (n - 2))\n",
    "    return skewness\n",
    "\n",
    "total_bill_skewness = calculate_skewness(data['total_bill'])\n",
    "tip_skewness = calculate_skewness(data['tip'])\n",
    "print(f\"Total Bill Skewness: {total_bill_skewness}\")\n",
    "print(f\"Tip Skewness: {tip_skewness}\")"
   ]
  },
  {
   "cell_type": "code",
   "execution_count": 24,
   "id": "c867785f-fbbc-40dc-b793-ce42145c9211",
   "metadata": {},
   "outputs": [
    {
     "name": "stdout",
     "output_type": "stream",
     "text": [
      "total_bill exhibits positive skewness.\n",
      "tip exhibits positive skewness.\n"
     ]
    }
   ],
   "source": [
    "# (ii) Create a program that determines whether the columns exhibit positive skewness, negative skewness, or is approximately symmetric.\n",
    "\n",
    "def skewness_type(column_name, skewness):\n",
    "\n",
    "    if skewness > 0:\n",
    "        print(f\"{column_name} exhibits positive skewness.\")\n",
    "    elif skewness < 0:\n",
    "        print(f\"{column_name} exhibits negative skewness.\")\n",
    "    else:\n",
    "        print(f\"{column_name} is approximately symmetric.\")\n",
    "\n",
    "skewness_type('total_bill', total_bill_skewness)\n",
    "skewness_type('tip', tip_skewness)"
   ]
  },
  {
   "cell_type": "code",
   "execution_count": 25,
   "id": "e20d366c-6552-42de-9e3f-c346d87418f2",
   "metadata": {},
   "outputs": [
    {
     "name": "stdout",
     "output_type": "stream",
     "text": [
      "Covariance between Total Bill and Tip: 8.289388917629669\n"
     ]
    }
   ],
   "source": [
    "# (iii) Write a function that calculates the covariance between two columns.\n",
    "\n",
    "def calculate_covariance(column1, column2):\n",
    "\n",
    "    mean1 = np.mean(column1)\n",
    "    mean2 = np.mean(column2)\n",
    "    covariance = np.mean((column1 - mean1) * (column2 - mean2))\n",
    "    return covariance\n",
    "\n",
    "covariance = calculate_covariance(data['total_bill'], data['tip'])\n",
    "print(f\"Covariance between Total Bill and Tip: {covariance}\")"
   ]
  },
  {
   "cell_type": "code",
   "execution_count": 26,
   "id": "f4b3a638-a91d-49ee-96b5-b3f0be047d74",
   "metadata": {},
   "outputs": [
    {
     "name": "stdout",
     "output_type": "stream",
     "text": [
      "Person Correlation Coefficient between Total Bill and Tip: 0.6729647071244327\n"
     ]
    }
   ],
   "source": [
    "# (iv) Implement a Python program that calculates the Pearson correlation coefficient between two columns.\n",
    "\n",
    "def calculate_pearson_correlation(column1, column2):\n",
    "    \n",
    "    covariance = calculate_covariance(column1, column2)\n",
    "    std_dev1 = np.std(column1, ddof = 1)\n",
    "    std_dev2 = np.std(column2, ddof = 1)\n",
    "    correlation = covariance / (std_dev1 * std_dev2)\n",
    "    return correlation\n",
    "\n",
    "pearson_corr = calculate_pearson_correlation(data['total_bill'], data['tip'])\n",
    "print(f\"Person Correlation Coefficient between Total Bill and Tip: {pearson_corr}\")"
   ]
  },
  {
   "cell_type": "code",
   "execution_count": 27,
   "id": "616e0a0d-6614-48ba-9d89-62bb18ac1c80",
   "metadata": {},
   "outputs": [
    {
     "data": {
      "image/png": "[encoded data removed]",
      "text/plain": [
       "<Figure size 800x600 with 1 Axes>"
      ]
     },
     "metadata": {},
     "output_type": "display_data"
    }
   ],
   "source": [
    "# (v) Write a script to visualize the correlation between two specific columns in a Pandas DataFrame using scatter plots.\n",
    "\n",
    "def visualize_correlation(data, column1, column2):\n",
    "\n",
    "    plt.figure(figsize=(8, 6))\n",
    "    sns.scatterplot(x=data[column1], y=data[column2])\n",
    "    plt.title(f\"Scatter Plot: {column1} vs {column2}\")\n",
    "    plt.xlabel(column1)\n",
    "    plt.ylabel(column2)\n",
    "    plt.grid(True)\n",
    "    plt.show()\n",
    "\n",
    "visualize_correlation(data, 'total_bill', 'tip')"
   ]
  },
  {
   "cell_type": "code",
   "execution_count": 28,
   "id": "05247852-e302-4d59-965b-6577df732d2d",
   "metadata": {},
   "outputs": [
    {
     "name": "stdout",
     "output_type": "stream",
     "text": [
      "The PDF value at x = 2 id  0.0540\n"
     ]
    }
   ],
   "source": [
    "# 8. Write a Python function to calculate the probability density function (PDF) of a continuous random variable for a given normal distribution.\n",
    "\n",
    "import math\n",
    "\n",
    "def normal_pdf(x, mean, std_dev):\n",
    "\n",
    "    if std_dev <= 0:\n",
    "        raise ValueError(\"Standard deviation must be positive.\")\n",
    "\n",
    "    coefficient = 1 / (math.sqrt(2 * math.pi) * std_dev)\n",
    "    exponent = -((x - mean) ** 2) / (2 * (std_dev ** 2))\n",
    "    return coefficient * math.exp(exponent)\n",
    "\n",
    "x_value = 2\n",
    "mean = 0\n",
    "std_dev = 1\n",
    "pdf_value = normal_pdf(x_value, mean, std_dev)\n",
    "print(f\"The PDF value at x = {x_value} id {pdf_value: .4f}\")"
   ]
  },
  {
   "cell_type": "code",
   "execution_count": 29,
   "id": "fd9c50f9-69a0-41c2-8faa-f96061b37b4b",
   "metadata": {},
   "outputs": [
    {
     "name": "stdout",
     "output_type": "stream",
     "text": [
      "The CDF value at x = 2 for rate λ = 1.5 is  0.9502\n"
     ]
    }
   ],
   "source": [
    "# 9. Create a program to calculate the cumulative distribution function (CDF) of exponential distribution.\n",
    "\n",
    "def exponential_cdf(x, rate):\n",
    "\n",
    "    if rate <= 0:\n",
    "        raise ValueError(\"Rate parameter (λ) must be positive.\")\n",
    "\n",
    "    if x < 0:\n",
    "        return 0\n",
    "    else:\n",
    "        return 1 - math.exp(-rate * x)\n",
    "\n",
    "x_value = 2\n",
    "rate_parameter = 1.5\n",
    "cdf_value = exponential_cdf(x_value, rate_parameter)\n",
    "print(f\"The CDF value at x = {x_value} for rate λ = {rate_parameter} is {cdf_value: .4f}\")"
   ]
  },
  {
   "cell_type": "code",
   "execution_count": 30,
   "id": "02bacaed-7a76-4f7b-ac9f-a86daf71d62a",
   "metadata": {},
   "outputs": [
    {
     "name": "stdout",
     "output_type": "stream",
     "text": [
      "The PMF value for k = 3 and rate λ = 2.5 is  0.2138\n"
     ]
    }
   ],
   "source": [
    "# 10. Write a Python function to calculate the probability mass function (PMF) of Poisson distribution.\n",
    "\n",
    "def poisson_pmf(k, rate):\n",
    "\n",
    "    if rate <= 0:\n",
    "        raise ValueError(\"Rate parameter (λ) must be positive.\")\n",
    "    if k < 0 or not isinstance(k, int):\n",
    "        raise ValueError(\"K must be a non-negative integer.\")\n",
    "\n",
    "    return (math.pow(rate, k) * math.exp(-rate)) / math.factorial(k)\n",
    "\n",
    "k_value = 3\n",
    "rate_parameter = 2.5\n",
    "pmf_value = poisson_pmf(k_value, rate_parameter)\n",
    "print(f\"The PMF value for k = {k_value} and rate λ = {rate_parameter} is {pmf_value: .4f}\")"
   ]
  },
  {
   "cell_type": "code",
   "execution_count": 31,
   "id": "139db69f-8c64-4ee8-9e0d-23e5709fa355",
   "metadata": {},
   "outputs": [
    {
     "name": "stdout",
     "output_type": "stream",
     "text": [
      "Old layout conversion rate: 0.0500\n",
      "New layout conversion rate: 0.0700\n",
      "Z-statistic: 1.8831\n",
      "P-value: 0.0298\n",
      "The new layout is statistically significantly better than the old layout.\n"
     ]
    }
   ],
   "source": [
    "# 11. A company wants to test if a new website layout leads to a higher conversion rate (percentage of visitors who make a purchase). They collect data from the old and new layouts to compare.\n",
    "\n",
    "# To generate the data use the following command:\n",
    "\n",
    "# import numpy as np\n",
    "\n",
    "# 50 purchases out of 1000 visitors\n",
    "# old_layout = np.array([1] * 50 + [0] * 950)\n",
    "\n",
    "# 70 purchases out of 1000 visitors  \n",
    "# new_layout = np.array([1] * 70 + [0] * 930)\n",
    "\n",
    "# Apply z-test to find which layout is successful\n",
    "\n",
    "import numpy as np\n",
    "from scipy.stats import norm\n",
    "\n",
    "old_layout = np.array([1] * 50 + [0] * 950)\n",
    "new_layout = np.array([1] * 70 + [0] * 930)\n",
    "\n",
    "x_old, n_old = sum(old_layout), len(old_layout)\n",
    "x_new, n_new = sum(new_layout), len(new_layout)\n",
    "\n",
    "# Proportions\n",
    "p_old = x_old / n_old\n",
    "p_new = x_new / n_new\n",
    "\n",
    "# Pooled proportion\n",
    "p_pooled = (x_old + x_new) / (n_old + n_new)\n",
    "\n",
    "# Z-test statistic\n",
    "z = (p_new - p_old) / np.sqrt(p_pooled * (1 - p_pooled) * (1/n_old + 1/n_new))\n",
    "\n",
    "# P-value (one-tailed test for p_new > p_old)\n",
    "p_value = 1 - norm.cdf(z)\n",
    "\n",
    "# Results\n",
    "print(f\"Old layout conversion rate: {p_old:.4f}\")\n",
    "print(f\"New layout conversion rate: {p_new:.4f}\")\n",
    "print(f\"Z-statistic: {z:.4f}\")\n",
    "print(f\"P-value: {p_value:.4f}\")\n",
    "\n",
    "# Interpretation\n",
    "alpha = 0.05\n",
    "if p_value < alpha:\n",
    "    print(\"The new layout is statistically significantly better than the old layout.\")\n",
    "else:\n",
    "    print(\"There is no statistically significant difference between the layouts.\")"
   ]
  },
  {
   "cell_type": "code",
   "execution_count": 32,
   "id": "f84fecbe-7d06-4dbc-b8cc-0eaffb70f555",
   "metadata": {},
   "outputs": [
    {
     "name": "stdout",
     "output_type": "stream",
     "text": [
      "Mean of differences:  3.8000\n",
      "Standard deviation of differences:  2.6162\n",
      "Z-statistic:  4.5932\n",
      "P-value:  0.0000\n",
      "The tutoring program significantly imporves exam scores.\n"
     ]
    }
   ],
   "source": [
    "# 12. A tutoring service claims that its program improves students' exam scores. A sample of students who participated in the program was taken, and their scores before and after the program were recorded.\n",
    "\n",
    "# Use the below code to generate samples of respective arrays of marks:\n",
    "\n",
    "# before_program = np.array([75, 80, 85, 70, 90, 78, 92, 88, 82, 87])\n",
    "# after_program = np.array([80, 85, 90, 80, 92, 80, 95, 90, 85, 88])\n",
    "\n",
    "# Use z-test to find if the claims made by tutor are true or false.\n",
    "\n",
    "import numpy as np\n",
    "from scipy.stats import norm\n",
    "\n",
    "before_program = np.array([75, 80, 85, 70, 90, 78, 92, 88, 82, 87])\n",
    "after_program = np.array([80, 85, 90, 80, 92, 80, 95, 90, 85, 88])\n",
    "\n",
    "differences = after_program - before_program\n",
    "\n",
    "# Mean and standard deviation of differences\n",
    "mean_diff = np.mean(differences)\n",
    "std_diff = np.std(differences, ddof = 1)\n",
    "n = len(differences)\n",
    "\n",
    "# Z-test statistic\n",
    "z = mean_diff / (std_diff / np.sqrt(n))\n",
    "\n",
    "# P-value (one-tailed test for improvement, H_a: μ_d > 0)\n",
    "p_value = 1 - norm.cdf(z)\n",
    "\n",
    "print(f\"Mean of differences: {mean_diff: .4f}\")\n",
    "print(f\"Standard deviation of differences: {std_diff: .4f}\")\n",
    "print(f\"Z-statistic: {z: .4f}\")\n",
    "print(f\"P-value: {p_value: .4f}\")\n",
    "\n",
    "# Interpretation\n",
    "if p_value < alpha:\n",
    "    print(\"The tutoring program significantly imporves exam scores.\")\n",
    "else:\n",
    "    print(\"There is no significant ecidence that the tutoring program improve exam scores.\")"
   ]
  },
  {
   "cell_type": "code",
   "execution_count": 33,
   "id": "5d105f3e-ecfe-4ac5-88a0-067788d67913",
   "metadata": {},
   "outputs": [
    {
     "name": "stdout",
     "output_type": "stream",
     "text": [
      "Mean Difference:  10.10\n",
      "Z-Statistic:  10.05\n",
      "P-Value:  0.0000\n",
      "Reject the null hypothesis. The drug is effective in reducing blood pressure.\n"
     ]
    }
   ],
   "source": [
    "# 13. A pharmaceutical company wants to determine if a new drug is effective in reducing blood pressure. They conduct a study and record blood pressure measurements before and after administering the drug.\n",
    "\n",
    "# Use the below code to generate samples of respective arrays of blood pressure:\n",
    "\n",
    "# before_drug = np.array([145, 150, 140, 135, 155, 160, 152, 148, 130, 138])\n",
    "# after_drug = np.array([130, 140, 132, 128, 145, 148, 138, 136, 125, 130])\n",
    "\n",
    "# Implement z-test to find if the drug really works or not.\n",
    "\n",
    "before_drug = np.array([145, 150, 140, 135, 155, 160, 152, 148, 130, 138])\n",
    "after_drug = np.array([130, 140, 132, 128, 145, 148, 138, 136, 125, 130])\n",
    "\n",
    "# Calculate differences\n",
    "differences = before_drug - after_drug\n",
    "\n",
    "# Calculate mean and standard deviation of differences\n",
    "mean_diff = np.mean(differences)\n",
    "std_diff = np.std(differences, ddof=1)  # Sample standard deviation\n",
    "n = len(differences)\n",
    "\n",
    "# z-test calculation\n",
    "z_stat = mean_diff / (std_diff / np.sqrt(n))\n",
    "\n",
    "# p-value for a one_tailed test\n",
    "p_value = 1 - norm.cdf(z_stat)\n",
    "\n",
    "print(f\"Mean Difference: {mean_diff: .2f}\")\n",
    "print(f\"Z-Statistic: {z_stat: .2f}\")\n",
    "print(f\"P-Value: {p_value: .4f}\")\n",
    "\n",
    "alpha = 0.05\n",
    "if p_value < alpha:\n",
    "    print(\"Reject the null hypothesis. The drug is effective in reducing blood pressure.\")\n",
    "else:\n",
    "    print(\"Fail to reject the null hypothesis. No sufficient evidence to conclude the drug is effective.\")"
   ]
  },
  {
   "cell_type": "code",
   "execution_count": 34,
   "id": "7c713d25-b136-46d4-847b-7b334f0d102f",
   "metadata": {},
   "outputs": [
    {
     "name": "stdout",
     "output_type": "stream",
     "text": [
      "Sample Mean:  4.57\n",
      "Sample Standard Deviation:  0.43\n",
      "Z-Statistic: -3.18\n",
      "p_Value:  0.0007\n",
      "Reject the null hypothesis. The claim that the average response time is less than 5 minutes is supported\n"
     ]
    }
   ],
   "source": [
    "# 14. A customer service department claims that their average response time is less than 5 minutes. A sample of recent customer interactions was taken, and the response times were recorded.\n",
    "\n",
    "# Implement the below code to generate the array of response time:\n",
    "\n",
    "# response_times = np.array([4.3, 3.8, 5.1, 4.9, 4.7, 4.2, 5.2, 4.5, 4.6, 4.4])\n",
    "\n",
    "# Implement z-test to find the claims made by customer service department are tru or false.\n",
    "\n",
    "response_times = np.array([4.3, 3.8, 5.1, 4.9, 4.7, 4.2, 5.2, 4.5, 4.6, 4.4])\n",
    "mu_0 = 5 #Claimed mean\n",
    "\n",
    "sample_mean = np.mean(response_times)\n",
    "sample_std = np.std(response_times, ddof = 1)\n",
    "n = len(response_times)\n",
    "\n",
    "# z-test calculation\n",
    "z_stat = (sample_mean - mu_0) / (sample_std / np.sqrt(n))\n",
    "\n",
    "p_value = norm.cdf(z_stat)\n",
    "\n",
    "print(f\"Sample Mean: {sample_mean: .2f}\")\n",
    "print(f\"Sample Standard Deviation: {sample_std: .2f}\")\n",
    "print(f\"Z-Statistic: {z_stat: .2f}\")\n",
    "print(f\"p_Value: {p_value: .4f}\")\n",
    "\n",
    "alpha = 0.05\n",
    "if p_value < alpha:\n",
    "    print(\"Reject the null hypothesis. The claim that the average response time is less than 5 minutes is supported\")\n",
    "else:\n",
    "    print(\"Fail to reject the null hypothesis. No sufficient evidence to support the claim.\")"
   ]
  },
  {
   "cell_type": "code",
   "execution_count": 35,
   "id": "8cd76684-191d-4922-b0fa-e3c90c78f3e4",
   "metadata": {},
   "outputs": [
    {
     "name": "stdout",
     "output_type": "stream",
     "text": [
      "Mean (Layout A): 32.50\n",
      "Mean (Layout B): 42.00\n",
      "T-Statistic: -7.30\n",
      "Degrees of Freedom: 17.88\n",
      "P-Value: 0.0000\n",
      "Reject the null hypothesis. There is a significant difference between the layouts.\n"
     ]
    }
   ],
   "source": [
    "# 15. A company is testing two different website layouts to see which one leads to higher click-through rates.\n",
    "# Write a Python function to perform an A/B test analysis, including calculating the t-statistic, degrees of\n",
    "# freedom, and p-value.\n",
    "\n",
    "# Use the following data:\n",
    "\n",
    "layout_a_clicks = [28, 32, 33, 29, 31, 34, 30, 35, 36, 37]\n",
    "layout_b_clicks = [40, 41, 38, 42, 39, 44, 43, 41, 45, 47]\n",
    "\n",
    "import numpy as np\n",
    "from scipy.stats import t\n",
    "\n",
    "def ab_test_analysis(layout_a, layout_b):\n",
    "    # Calculate sample statistics\n",
    "    mean_a = np.mean(layout_a)\n",
    "    mean_b = np.mean(layout_b)\n",
    "    std_a = np.std(layout_a, ddof=1)\n",
    "    std_b = np.std(layout_b, ddof=1)\n",
    "    n_a = len(layout_a)\n",
    "    n_b = len(layout_b)\n",
    "    \n",
    "    # Calculate t-statistic\n",
    "    t_stat = (mean_a - mean_b) / np.sqrt((std_a**2 / n_a) + (std_b**2 / n_b))\n",
    "    \n",
    "    # Calculate degrees of freedom\n",
    "    numerator = (std_a**2 / n_a + std_b**2 / n_b)**2\n",
    "    denominator = ((std_a**2 / n_a)**2 / (n_a - 1)) + ((std_b**2 / n_b)**2 / (n_b - 1))\n",
    "    df = numerator / denominator\n",
    "    \n",
    "    # Calculate p-value (two-tailed)\n",
    "    p_value = 2 * (1 - t.cdf(abs(t_stat), df))\n",
    "    \n",
    "    # Output results\n",
    "    print(f\"Mean (Layout A): {mean_a:.2f}\")\n",
    "    print(f\"Mean (Layout B): {mean_b:.2f}\")\n",
    "    print(f\"T-Statistic: {t_stat:.2f}\")\n",
    "    print(f\"Degrees of Freedom: {df:.2f}\")\n",
    "    print(f\"P-Value: {p_value:.4f}\")\n",
    "    \n",
    "    # Conclusion\n",
    "    alpha = 0.05  # Significance level\n",
    "    if p_value < alpha:\n",
    "        print(\"Reject the null hypothesis. There is a significant difference between the layouts.\")\n",
    "    else:\n",
    "        print(\"Fail to reject the null hypothesis. No significant difference between the layouts.\")\n",
    "\n",
    "# Perform A/B test analysis\n",
    "ab_test_analysis(layout_a_clicks, layout_b_clicks)\n"
   ]
  },
  {
   "cell_type": "code",
   "execution_count": 36,
   "id": "2ccd59bf-d88d-401f-bc2d-eb29482e6600",
   "metadata": {},
   "outputs": [
    {
     "name": "stdout",
     "output_type": "stream",
     "text": [
      "T-statistic: -4.140\n",
      "P-value:  0.001\n",
      "Reject the null hypothesis: The new drug is significantly different in reducing cholesterol levels.\n"
     ]
    }
   ],
   "source": [
    "# 16. A pharmaceutical company wants to determine if a new drug is more effective than an existing drug in\n",
    "# reducing cholesterol levels. Create a program to analyze the clinical trial data and calculate the tstatistic and p-value for the treatment effect.\n",
    "\n",
    "# Use the following data of cholestrol level:\n",
    "\n",
    "existing_drug_levels = [180, 182, 175, 185, 178, 176, 172, 184, 179, 183]\n",
    "new_drug_levels = [170, 172, 165, 168, 175, 173, 170, 178, 172, 176]\n",
    "\n",
    "from scipy.stats import ttest_ind\n",
    "\n",
    "t_stat, p_value = ttest_ind(new_drug_levels, existing_drug_levels)\n",
    "\n",
    "print(f\"T-statistic: {t_stat: .3f}\")\n",
    "print(f\"P-value: {p_value: .3f}\")\n",
    "\n",
    "alpha = 0.5\n",
    "if p_value < alpha:\n",
    "    print(\"Reject the null hypothesis: The new drug is significantly different in reducing cholesterol levels.\")\n",
    "else:\n",
    "    print(\"Fail to reject the null hypothesis: No significant difference in cholesterol levels between the two drugs.\")"
   ]
  },
  {
   "cell_type": "code",
   "execution_count": 37,
   "id": "62417951-7a84-44d0-a001-f2f7fde0a5a0",
   "metadata": {},
   "outputs": [
    {
     "name": "stdout",
     "output_type": "stream",
     "text": [
      "T-statistic: -4.42840883965761\n",
      "P-value: 0.0016509548165795493\n",
      "The intervention had a significant impact on test scores.\n"
     ]
    }
   ],
   "source": [
    "# 17. A school district introduces an educational intervention program to improve math scores. Write a Python\n",
    "# function to analyze pre- and post-intervention test scores, calculating the t-statistic and p-value to\n",
    "# determine if the intervention had a significant impact.\n",
    "\n",
    "# Use the following data of test score:\n",
    "\n",
    "pre_intervention_scores = [80, 85, 90, 75, 88, 82, 92, 78, 85, 87]\n",
    "post_intervention_scores = [90, 92, 88, 92, 95, 91, 96, 93, 89, 93]\n",
    "\n",
    "import scipy.stats as stats\n",
    "\n",
    "t_statistic, p_value = stats.ttest_rel(pre_intervention_scores, post_intervention_scores)\n",
    "\n",
    "print(f\"T-statistic: {t_statistic}\")\n",
    "print(f\"P-value: {p_value}\")\n",
    "\n",
    "alpha = 0.05  \n",
    "if p_value < alpha:\n",
    "    print(\"The intervention had a significant impact on test scores.\")\n",
    "else:\n",
    "    print(\"The intervention did not have a significant impact on test scores.\")"
   ]
  },
  {
   "cell_type": "code",
   "execution_count": 38,
   "id": "7339ea52-75d2-429b-9288-3ea52b491064",
   "metadata": {},
   "outputs": [
    {
     "name": "stdout",
     "output_type": "stream",
     "text": [
      "T-statistic: 0.06114208969631383\n",
      "P-value: 0.9515665020676465\n",
      "There is no statistically significant gender-based salary gap.\n"
     ]
    }
   ],
   "source": [
    "# 18. An HR department wants to investigate if there's a gender-based salary gap within the company. Develop\n",
    "# a program to analyze salary data, calculate the t-statistic, and determine if there's a statistically\n",
    "# significant difference between the average salaries of male and female employees.\n",
    "\n",
    "# Use the below code to generate synthetic data:\n",
    "\n",
    "# Generate synthetic salary data for male and female employees\n",
    "\n",
    "np.random.seed(0)  # For reproducibility\n",
    "male_salaries = np.random.normal(loc=50000, scale=10000, size=20)\n",
    "female_salaries = np.random.normal(loc=55000, scale=9000, size=20)\n",
    "\n",
    "def analyze_salary_gap(male_salaries, female_salaries):\n",
    "\n",
    "    t_statistic, p_value = stats.ttest_ind(male_salaries, female_salaries)\n",
    "\n",
    "    print(f\"T-statistic: {t_statistic}\")\n",
    "    print(f\"P-value: {p_value}\")\n",
    "\n",
    "    alpha = 0.05\n",
    "    if p_value < alpha:\n",
    "        return \"There is a statistically significant gender-based salary gap.\"\n",
    "    else:\n",
    "        return \"There is no statistically significant gender-based salary gap.\"\n",
    "\n",
    "result = analyze_salary_gap(male_salaries, female_salaries)\n",
    "print(result)"
   ]
  },
  {
   "cell_type": "code",
   "execution_count": 39,
   "id": "8be12b84-109b-4402-be41-b4028e6bebb1",
   "metadata": {},
   "outputs": [
    {
     "name": "stdout",
     "output_type": "stream",
     "text": [
      "T-statistic: 11.325830417646698\n",
      "P-value: 3.6824250702873965e-15\n",
      "There is a statistically significant difference in quality between the two versions.\n"
     ]
    }
   ],
   "source": [
    "# 19. A manufacturer produces two different versions of a product and wants to compare their quality scores.\n",
    "# Create a Python function to analyze quality assessment data, calculate the t-statistic, and decide\n",
    "# whether there's a significant difference in quality between the two versions.\n",
    "\n",
    "# Use the following data:\n",
    "\n",
    "version1_scores = [85, 88, 82, 89, 87, 84, 90, 88, 85, 86, 91, 83, 87, 84, 89, 86, 84, 88, 85, 86, 89, 90, 87, 88, 85]\n",
    "version2_scores = [80, 78, 83, 81, 79, 82, 76, 80, 78, 81, 77, 82, 80, 79, 82, 79, 80, 81, 79, 82, 79, 78, 80, 81, 82]\n",
    "\n",
    "def analyze_quality_difference(version1_scores, version2_scores):\n",
    "\n",
    "    t_statistic, p_value = stats.ttest_ind(version1_scores, version2_scores)\n",
    "\n",
    "    print(f\"T-statistic: {t_statistic}\")\n",
    "    print(f\"P-value: {p_value}\")\n",
    "\n",
    "    alpha = 0.05\n",
    "    if p_value < alpha:\n",
    "        return \"There is a statistically significant difference in quality between the two versions.\"\n",
    "    else:\n",
    "        return \"There is no statistically significant difference in quality between the two versions.\"\n",
    "\n",
    "result = analyze_quality_difference(version1_scores, version2_scores)\n",
    "print(result)"
   ]
  },
  {
   "cell_type": "code",
   "execution_count": 40,
   "id": "1b2e1a97-e591-467c-86c4-f3cedb4c73f5",
   "metadata": {},
   "outputs": [
    {
     "name": "stdout",
     "output_type": "stream",
     "text": [
      "T-statistic: 5.480077554195743\n",
      "P-value: 8.895290509945657e-07\n",
      "There is a statistically significant difference in customer satisfaction between the branches.\n"
     ]
    }
   ],
   "source": [
    "# 20. A restaurant chain collects customer satisfaction scores for two different branches. Write a program to\n",
    "# analyze the scores, calculate the t-statistic, and determine if there's a statistically significant difference in\n",
    "# customer satisfaction between the branches.\n",
    "\n",
    "# Use the below data of scores:\n",
    "\n",
    "branch_a_scores = [4, 5, 3, 4, 5, 4, 5, 3, 4, 4, 5, 4, 4, 3, 4, 5, 5, 4, 3, 4, 5, 4, 3, 5, 4, 4, 5, 3, 4, 5, 4]\n",
    "branch_b_scores = [3, 4, 2, 3, 4, 3, 4, 2, 3, 3, 4, 3, 3, 2, 3, 4, 4, 3, 2, 3, 4, 3, 2, 4, 3, 3, 4, 2, 3, 4, 3]\n",
    "\n",
    "def analyze_customer_satisfaction(branch_a_scores, branch_b_scores):\n",
    "\n",
    "    t_statistic, p_value = stats.ttest_ind(branch_a_scores, branch_b_scores)\n",
    "\n",
    "    print(f\"T-statistic: {t_statistic}\")\n",
    "    print(f\"P-value: {p_value}\")\n",
    "\n",
    "    alpha = 0.05\n",
    "    if p_value < alpha:\n",
    "        return \"There is a statistically significant difference in customer satisfaction between the branches.\"\n",
    "    else:\n",
    "        return \"There is no statistically significant difference in customer satisfaction between the branches.\"\n",
    "\n",
    "result = analyze_customer_satisfaction(branch_a_scores, branch_b_scores)\n",
    "print(result)"
   ]
  },
  {
   "cell_type": "code",
   "execution_count": 41,
   "id": "007b07eb-583a-4b67-b50c-9255ed7b2ac9",
   "metadata": {},
   "outputs": [
    {
     "name": "stdout",
     "output_type": "stream",
     "text": [
      "Chi-Square Statistic: 1.086807928913192\n",
      "P-value: 0.5807679703526951\n",
      "Degrees of Freedom: 2\n",
      "Expected Frequencies:\n",
      "[[2.93333333 5.06666667]\n",
      " [2.93333333 5.06666667]\n",
      " [5.13333333 8.86666667]]\n",
      "There is no statistically significant association between age groups and voter preferences.\n"
     ]
    }
   ],
   "source": [
    "# 21. A political analyst wants to determine if there is a significant association between age groups and voter\n",
    "# preferences (Candidate A or Candidate B). They collect data from a sample of 500 voters and classify\n",
    "# them into different age groups and candidate preferences. Perform a Chi-Square test to determine if\n",
    "# there is a significant association between age groups and voter preferences.\n",
    "\n",
    "# Use the below code to generate data:\n",
    "\n",
    "np.random.seed(0)\n",
    "age_groups = np.random.choice([ '18-30' , '31-50' , '51+', '51+'], size=30)\n",
    "voter_preferences = np.random.choice(['Candidate A', 'Candidate B'], size=30)\n",
    "\n",
    "data = pd.DataFrame({'Age Group': age_groups, 'Voter Preference': voter_preferences})\n",
    "contingency_table = pd.crosstab(data['Age Group'], data['Voter Preference'])\n",
    "chi2_stat, p_value, dof, expected = stats.chi2_contingency(contingency_table)\n",
    "\n",
    "print(f\"Chi-Square Statistic: {chi2_stat}\")\n",
    "print(f\"P-value: {p_value}\")\n",
    "print(f\"Degrees of Freedom: {dof}\")\n",
    "print(f\"Expected Frequencies:\\n{expected}\")\n",
    "\n",
    "# Interpretation of the result\n",
    "alpha = 0.05  # Significance level\n",
    "if p_value < alpha:\n",
    "    print(\"There is a statistically significant association between age groups and voter preferences.\")\n",
    "else:\n",
    "    print(\"There is no statistically significant association between age groups and voter preferences.\")"
   ]
  },
  {
   "cell_type": "code",
   "execution_count": 42,
   "id": "e6cfefcf-df5c-4188-9998-0c0b0ebb4e03",
   "metadata": {},
   "outputs": [
    {
     "data": {
      "text/plain": [
       "(np.float64(27.777056277056275),\n",
       " np.float64(0.00010349448486004387),\n",
       " 6,\n",
       " array([[34.14634146, 34.14634146, 37.56097561, 34.14634146],\n",
       "        [36.58536585, 36.58536585, 40.24390244, 36.58536585],\n",
       "        [29.26829268, 29.26829268, 32.19512195, 29.26829268]]))"
      ]
     },
     "execution_count": 42,
     "metadata": {},
     "output_type": "execute_result"
    }
   ],
   "source": [
    "# 22. A company conducted a customer satisfaction survey to determine if there is a significant relationship\n",
    "# between product satisfaction levels (Satisfied, Neutral, Dissatisfied) and the region where customers are\n",
    "# located (East, West, North, South). The survey data is summarized in a contingency table. Conduct a ChiSquare test to determine if there is a significant relationship between product satisfaction levels and\n",
    "# customer regions.\n",
    "\n",
    "#Sample data: Product satisfaction levels (rows) vs. Customer regions (columns)\n",
    "\n",
    "data = np.array([[50, 30, 40, 20], [30, 40, 30, 50], [20, 30, 40, 30]])\n",
    "\n",
    "from scipy.stats import chi2_contingency\n",
    "\n",
    "chi2, p_value, dof, expected = chi2_contingency(data)\n",
    "\n",
    "chi2_statistic = chi2\n",
    "p_value = p_value\n",
    "degrees_of_freedom = dof\n",
    "expected_frequencies = expected\n",
    "\n",
    "\n",
    "chi2_statistic, p_value, degrees_of_freedom, expected_frequencies"
   ]
  },
  {
   "cell_type": "code",
   "execution_count": 43,
   "id": "7ddf5151-6555-41b5-b6f1-556f8f378b79",
   "metadata": {},
   "outputs": [
    {
     "name": "stdout",
     "output_type": "stream",
     "text": [
      "Chi-Square Statistic: 22.161728395061726\n",
      "P-value; 0.00018609719479882554\n",
      "Degrees of Freedom: 4\n",
      "Expected Frequencies:\n",
      "[[34.48275862 34.48275862 31.03448276]\n",
      " [34.48275862 34.48275862 31.03448276]\n",
      " [31.03448276 31.03448276 27.93103448]]\n",
      "Reject the null hypothesis: There is a significant difference between job performance levels before and after the training.\n"
     ]
    }
   ],
   "source": [
    "# 23. A company implemented an employee training program to improve job performance (Effective, Neutral,\n",
    "# Ineffective). After the training, they collected data from a sample of employees and classified them based\n",
    "# on their job performance before and after the training. Perform a Chi-Square test to determine if there is a\n",
    "# significant difference between job performance levels before and after the training.\n",
    "\n",
    "# Sample data: Job performance levels before (rows) and after (columns) training\n",
    "\n",
    "data = np.array([[50, 30, 20], [30, 40, 30], [20, 30, 40]])\n",
    "\n",
    "chi2, p, dof, expected = chi2_contingency(data)\n",
    "\n",
    "print(f\"Chi-Square Statistic: {chi2}\")\n",
    "print(f\"P-value; {p}\")\n",
    "print(f\"Degrees of Freedom: {dof}\")\n",
    "print(f\"Expected Frequencies:\\n{expected}\")\n",
    "\n",
    "alpha = 0.05\n",
    "if p < alpha:\n",
    "    print(\"Reject the null hypothesis: There is a significant difference between job performance levels before and after the training.\")\n",
    "else:\n",
    "    print(\"Fail to reject the null hypothesis: There is no significant difference between job performance levels before and after the training.\")"
   ]
  },
  {
   "cell_type": "code",
   "execution_count": 44,
   "id": "e0c11327-b2c9-4b0d-a12c-3454b340bcb8",
   "metadata": {},
   "outputs": [
    {
     "name": "stdout",
     "output_type": "stream",
     "text": [
      "F-statistic: 27.03556231003039\n",
      "P-value: 3.578632885734896e-07\n",
      "Reject the null hypothesis: There is a significant difference in customer satisfaction scores among the three product versions.\n"
     ]
    }
   ],
   "source": [
    "#  24. A company produces three different versions of a product: Standard, Premium, and Deluxe. The\n",
    "# company wants to determine if there is a significant difference in customer satisfaction scores among the\n",
    "# three product versions. They conducted a survey and collected customer satisfaction scores for each\n",
    "# version from a random sample of customers. Perform an ANOVA test to determine if there is a significant\n",
    "# difference in customer satisfaction scores.\n",
    "\n",
    "# Use the following data:\n",
    "\n",
    "# Sample data: Customer satisfaction scores for each product version\n",
    "\n",
    "standard_scores = [80, 85, 90, 78, 88, 82, 92, 78, 85, 87]\n",
    "premium_scores = [90, 92, 88, 92, 95, 91, 96, 93, 89, 93]\n",
    "deluxe_scores = [95, 98, 92, 97, 96, 94, 98, 97, 92, 99]\n",
    "\n",
    "from scipy.stats import f_oneway\n",
    "\n",
    "f_stat, p_value = f_oneway(standard_scores, premium_scores, deluxe_scores)\n",
    "\n",
    "print(f\"F-statistic: {f_stat}\")\n",
    "print(f\"P-value: {p_value}\")\n",
    "\n",
    "alpha = 0.05\n",
    "if p_value < alpha:\n",
    "    print(\"Reject the null hypothesis: There is a significant difference in customer satisfaction scores among the three product versions.\")\n",
    "else:\n",
    "    print(\"Fail to reject the null hypothesis: There is no significant difference in customer satisfaction scores among the three product versions.\")"
   ]
  },
  {
   "cell_type": "code",
   "execution_count": 46,
   "id": "14009c9c-3804-4eda-bc5a-20886ec3180c",
   "metadata": {},
   "outputs": [
    {
     "name": "stdout",
     "output_type": "stream",
     "text": [
      "Original DataFrame:\n",
      "   A  B\n",
      "0  1 -4\n",
      "1 -2  5\n",
      "2  3 -6\n",
      "\n",
      "Modified DataFrame:\n",
      "   A  B\n",
      "0  1 -4\n",
      "1  0  5\n",
      "2  3 -6\n"
     ]
    }
   ],
   "source": [
    "# 25. Write a function that takes a Pandas DataFrame and replaces all negative values in a specific column with zeros. Use NumPy operations within the Pandas DataFrame.\n",
    "\n",
    "def replace_negatives_with_zeros(df, column_name):\n",
    "\n",
    "    if column_name in df.columns:\n",
    "        df[column_name] = np.where(df[column_name] < 0, 0, df[column_name])\n",
    "    else:\n",
    "        raise ValueError(f\"Column '{column_name}' does not exist in the DataFrame.\")\n",
    "    return df\n",
    "\n",
    "data = {'A': [1, -2, 3], 'B': [-4, 5, -6]}\n",
    "df = pd.DataFrame(data)\n",
    "print(\"Original DataFrame:\")\n",
    "print(df)\n",
    "\n",
    "df = replace_negatives_with_zeros(df, 'A')\n",
    "print(\"\\nModified DataFrame:\")\n",
    "print(df)"
   ]
  },
  {
   "cell_type": "code",
   "execution_count": 50,
   "id": "4abf1eb6-0b90-4f54-a29f-8e2b822c4307",
   "metadata": {},
   "outputs": [
    {
     "name": "stdout",
     "output_type": "stream",
     "text": [
      "The third element is: 30\n"
     ]
    }
   ],
   "source": [
    "# 26. Access the 3rd element from the given NumPy array.\n",
    "\n",
    "arr = np.array([10, 20, 30, 40, 50])\n",
    "print(\"The third element is:\", arr[2])"
   ]
  },
  {
   "cell_type": "code",
   "execution_count": 51,
   "id": "2f3b5fa4-5286-478c-b0c3-0f7d4c54f224",
   "metadata": {},
   "outputs": [
    {
     "name": "stdout",
     "output_type": "stream",
     "text": [
      "The element at index (1, 2) is: 6\n"
     ]
    }
   ],
   "source": [
    "# 27. Retrieve the element at index (1, 2) from the 2D NumPy array.\n",
    "\n",
    "arr_2d = np.array([[1, 2, 3],\n",
    "                   [4, 5, 6],\n",
    "                   [7, 8, 9]])\n",
    "print(\"The element at index (1, 2) is:\", arr_2d[1, 2])"
   ]
  },
  {
   "cell_type": "code",
   "execution_count": 52,
   "id": "e6a5903d-3550-44e7-87f1-928275f31645",
   "metadata": {},
   "outputs": [
    {
     "name": "stdout",
     "output_type": "stream",
     "text": [
      "Elements greater than 5: [ 8 10  7]\n"
     ]
    }
   ],
   "source": [
    "# 28. Using boolean indexing, extract elements greater than 5 from the given NumPy array.\n",
    "\n",
    "arr = np.array([3, 8, 2, 10, 5, 7])\n",
    "print(\"Elements greater than 5:\", arr[arr > 5])"
   ]
  },
  {
   "cell_type": "code",
   "execution_count": 54,
   "id": "914f55ff-cc2d-4961-a4b8-08e7a28e15ba",
   "metadata": {},
   "outputs": [
    {
     "name": "stdout",
     "output_type": "stream",
     "text": [
      "Elements from index 2 to 5 (inclusive): [3 4 5 6]\n"
     ]
    }
   ],
   "source": [
    "# 29. Perform basic slicing to extract elements from index 2 to 5 (inclusive) from the given NumPy array.\n",
    "\n",
    "arr = np.array([1, 2, 3, 4, 5, 6, 7, 8, 9])\n",
    "print(\"Elements from index 2 to 5 (inclusive):\",arr[2:6])"
   ]
  },
  {
   "cell_type": "code",
   "execution_count": 55,
   "id": "79eb4b84-05cd-4ede-b6e6-bd3027cf540f",
   "metadata": {},
   "outputs": [
    {
     "name": "stdout",
     "output_type": "stream",
     "text": [
      "Extracted sub-array:\n",
      "[[2 3]\n",
      " [5 6]]\n"
     ]
    }
   ],
   "source": [
    "# 30. Slice the 2D NumPy array to extract the sub-array `[[2, 3], [5, 6]]` from the given array.\n",
    "\n",
    "arr_2d = np.array([[1, 2, 3],\n",
    "                   [4, 5, 6],\n",
    "                   [7, 8, 9]])\n",
    "print(\"Extracted sub-array:\")\n",
    "print(arr_2d[0:2, 1:3])"
   ]
  },
  {
   "cell_type": "code",
   "execution_count": 56,
   "id": "2bf09653-1d0f-4c13-9637-49cbb27c37b3",
   "metadata": {},
   "outputs": [
    {
     "name": "stdout",
     "output_type": "stream",
     "text": [
      "Extracted elements: [2 6 7]\n"
     ]
    }
   ],
   "source": [
    "# 31. Write a NumPy function to extract elements in specific order from a given 2D array based on indices provided in another array.\n",
    "\n",
    "def extract_elements_by_indices(arr, indices):\n",
    "\n",
    "    row_indices, col_indices = zip(*indices)\n",
    "    extracted_elements = arr[row_indices, col_indices]\n",
    "    return extracted_elements\n",
    "\n",
    "arr_2d = np.array([[1, 2, 3], [4, 5, 6], [7, 8, 9]])\n",
    "\n",
    "indices = [(0, 1), (1, 2), (2, 0)]\n",
    "result = extract_elements_by_indices(arr_2d, indices)\n",
    "print(\"Extracted elements:\", result)"
   ]
  },
  {
   "cell_type": "code",
   "execution_count": 57,
   "id": "d18e6449-c0f8-459b-abcf-5e625a464f34",
   "metadata": {},
   "outputs": [
    {
     "name": "stdout",
     "output_type": "stream",
     "text": [
      "Filtered elements: [15 20 12]\n"
     ]
    }
   ],
   "source": [
    "# 32. Create a NumPy function that filters elements greater than a threshold from a given 1D array using boolean indexing.\n",
    "\n",
    "def filter_elements_greater_than(arr, threshold):\n",
    "\n",
    "    filtered_elements = arr[arr > threshold]\n",
    "    return filtered_elements\n",
    "\n",
    "arr = np.array([10, 15, 7, 20, 5, 12])\n",
    "\n",
    "threshold = 10\n",
    "result = filter_elements_greater_than(arr, threshold)\n",
    "print(\"Filtered elements:\", result)"
   ]
  },
  {
   "cell_type": "code",
   "execution_count": 58,
   "id": "7b1dac2c-f98c-47f0-b19c-a8b3a25b39df",
   "metadata": {},
   "outputs": [
    {
     "name": "stdout",
     "output_type": "stream",
     "text": [
      "Extracted elements: [ 6  8 16]\n"
     ]
    }
   ],
   "source": [
    "# 33. Develop a NumPy function that extracts specific elements from a 3D array using indices provided in three separate arrays for each dimension.\n",
    "\n",
    "def extract_elements_from_3d(arr, x_indices, y_indices, z_indices):\n",
    "\n",
    "    if len(x_indices) != len(y_indices) or len(x_indices) != len(z_indices):\n",
    "        raise ValueError(\"The length of all index arrays must be the same.\")\n",
    "\n",
    "    extracted_elements = arr[x_indices, y_indices, z_indices]\n",
    "    return extracted_elements\n",
    "\n",
    "arr_3d = np.array([[[1, 2, 3],\n",
    "                   [4, 5, 6]],\n",
    "                   \n",
    "                  [[7, 8, 9],\n",
    "                  [10, 11, 12]],\n",
    "                   \n",
    "                  [[13, 14, 15], \n",
    "                  [16, 17, 18]]])\n",
    "\n",
    "x_indices = [0, 1, 2]\n",
    "y_indices = [1, 0, 1]\n",
    "z_indices = [2, 1, 0]\n",
    "\n",
    "result = extract_elements_from_3d(arr_3d, x_indices, y_indices, z_indices)\n",
    "print(\"Extracted elements:\", result)"
   ]
  },
  {
   "cell_type": "code",
   "execution_count": 60,
   "id": "fdcea534-3d3e-43a4-b1ed-eb5e08e7dc52",
   "metadata": {},
   "outputs": [
    {
     "name": "stdout",
     "output_type": "stream",
     "text": [
      "Filtered elements: [30 40 50]\n"
     ]
    }
   ],
   "source": [
    "# 34. Write a NumPy function that returns elements from an array where both two conditions are satisfied using boolean indexing.\n",
    "\n",
    "def filter_elements_by_conditions(arr, condition1, condition2):\n",
    "\n",
    "    if callable(condition1):\n",
    "        condition1 = condition1(arr)\n",
    "    if callable(condition2):\n",
    "        condition2 = condition2(arr)\n",
    "\n",
    "    combined_condition = condition1 & condition2\n",
    "    filtered_elements = arr[combined_condition]\n",
    "    return filtered_elements\n",
    "\n",
    "arr = np.array([10, 20, 30, 40, 50, 60, 70])\n",
    "\n",
    "condition1 = arr > 20\n",
    "condition2 = arr < 60\n",
    "\n",
    "result = filter_elements_by_conditions(arr, condition1, condition2)\n",
    "print('Filtered elements:', result)"
   ]
  },
  {
   "cell_type": "code",
   "execution_count": 61,
   "id": "b22dee43-c84f-4b9d-9c60-c0352c78eb59",
   "metadata": {},
   "outputs": [
    {
     "name": "stdout",
     "output_type": "stream",
     "text": [
      "Extracted elements: [3 5 7]\n"
     ]
    }
   ],
   "source": [
    "# 35. Create a NumPy function that extracts elements from a 2D array using row and column indices provided in separate arrays.\n",
    "\n",
    "def extract_elements_from_2d(arr, row_indices, col_indices):\n",
    "\n",
    "    if len(row_indices) != len(col_indices):\n",
    "        raise ValueError(\"The length of row_indices and col_indices must be the same.\")\n",
    "\n",
    "    extracted_elements = arr[row_indices, col_indices]\n",
    "    return extracted_elements\n",
    "\n",
    "arr_2d = np.array([[1, 2, 3], \n",
    "                  [4, 5, 6], \n",
    "                  [7, 8, 9]])\n",
    "\n",
    "row_indices = [0, 1, 2]\n",
    "col_indices = [2, 1, 0]\n",
    "\n",
    "result = extract_elements_from_2d(arr_2d, row_indices, col_indices)\n",
    "print(\"Extracted elements:\", result)"
   ]
  },
  {
   "cell_type": "code",
   "execution_count": 62,
   "id": "966ca5f2-8703-4415-b578-258e18942325",
   "metadata": {},
   "outputs": [
    {
     "name": "stdout",
     "output_type": "stream",
     "text": [
      "Result after adding 5 to each element:\n",
      "[[ 6  7  8]\n",
      " [ 9 10 11]\n",
      " [12 13 14]]\n"
     ]
    }
   ],
   "source": [
    "# 36. Given an array arr of shape (3, 3), add a scalar value of 5 to each element using NumPy broadcasting.\n",
    "\n",
    "arr = np.array([[1, 2, 3], [4, 5, 6], [7, 8, 9]])\n",
    "\n",
    "result = arr + 5\n",
    "print(\"Result after adding 5 to each element:\")\n",
    "print(result)"
   ]
  },
  {
   "cell_type": "code",
   "execution_count": 64,
   "id": "32ed304f-60f3-45e0-b95d-e8cf57254b8d",
   "metadata": {},
   "outputs": [
    {
     "ename": "ValueError",
     "evalue": "operands could not be broadcast together with shapes (3,4) (1,3) ",
     "output_type": "error",
     "traceback": [
      "\u001b[1;31m---------------------------------------------------------------------------\u001b[0m",
      "\u001b[1;31mValueError\u001b[0m                                Traceback (most recent call last)",
      "Cell \u001b[1;32mIn[64], line 9\u001b[0m\n\u001b[0;32m      4\u001b[0m arr2 \u001b[38;5;241m=\u001b[39m np\u001b[38;5;241m.\u001b[39marray([[\u001b[38;5;241m4\u001b[39m, \u001b[38;5;241m5\u001b[39m, \u001b[38;5;241m6\u001b[39m, \u001b[38;5;241m7\u001b[39m],\n\u001b[0;32m      5\u001b[0m                  [\u001b[38;5;241m8\u001b[39m, \u001b[38;5;241m9\u001b[39m, \u001b[38;5;241m10\u001b[39m, \u001b[38;5;241m11\u001b[39m],\n\u001b[0;32m      6\u001b[0m                  [\u001b[38;5;241m12\u001b[39m, \u001b[38;5;241m13\u001b[39m, \u001b[38;5;241m14\u001b[39m, \u001b[38;5;241m15\u001b[39m]])  \u001b[38;5;66;03m# Shape (3, 4)\u001b[39;00m\n\u001b[0;32m      8\u001b[0m \u001b[38;5;66;03m# Multiply each row of arr2 by the corresponding element in arr1\u001b[39;00m\n\u001b[1;32m----> 9\u001b[0m result \u001b[38;5;241m=\u001b[39m \u001b[43marr2\u001b[49m\u001b[43m \u001b[49m\u001b[38;5;241;43m*\u001b[39;49m\u001b[43m \u001b[49m\u001b[43marr1\u001b[49m\n\u001b[0;32m     11\u001b[0m \u001b[38;5;28mprint\u001b[39m(\u001b[38;5;124m\"\u001b[39m\u001b[38;5;124mResult after multiplying:\u001b[39m\u001b[38;5;124m\"\u001b[39m)\n\u001b[0;32m     12\u001b[0m \u001b[38;5;28mprint\u001b[39m(result)\n",
      "\u001b[1;31mValueError\u001b[0m: operands could not be broadcast together with shapes (3,4) (1,3) "
     ]
    }
   ],
   "source": [
    "# 37. Consider two arrays arr1 of shape (1, 3) and arr2 of shape (3, 4). Multiply each row of arr2 by the corresponding element in arr1 using NumPy broadcasting.\n",
    "\n",
    "arr1 = np.array([[1, 2, 3]])  # Shape (1, 3)\n",
    "arr2 = np.array([[4, 5, 6, 7],\n",
    "                 [8, 9, 10, 11],\n",
    "                 [12, 13, 14, 15]])  # Shape (3, 4)\n",
    "\n",
    "result = arr2 * arr1\n",
    "\n",
    "print(\"Result after multiplying:\")\n",
    "print(result)"
   ]
  },
  {
   "cell_type": "code",
   "execution_count": 65,
   "id": "529618fc-70bc-4acf-9969-6da1e93881ed",
   "metadata": {},
   "outputs": [
    {
     "ename": "ValueError",
     "evalue": "operands could not be broadcast together with shapes (4,3) (1,4) ",
     "output_type": "error",
     "traceback": [
      "\u001b[1;31m---------------------------------------------------------------------------\u001b[0m",
      "\u001b[1;31mValueError\u001b[0m                                Traceback (most recent call last)",
      "Cell \u001b[1;32mIn[65], line 13\u001b[0m\n\u001b[0;32m      7\u001b[0m arr2 \u001b[38;5;241m=\u001b[39m np\u001b[38;5;241m.\u001b[39marray([[\u001b[38;5;241m5\u001b[39m, \u001b[38;5;241m6\u001b[39m, \u001b[38;5;241m7\u001b[39m],\n\u001b[0;32m      8\u001b[0m                  [\u001b[38;5;241m8\u001b[39m, \u001b[38;5;241m9\u001b[39m, \u001b[38;5;241m10\u001b[39m],\n\u001b[0;32m      9\u001b[0m                  [\u001b[38;5;241m11\u001b[39m, \u001b[38;5;241m12\u001b[39m, \u001b[38;5;241m13\u001b[39m],\n\u001b[0;32m     10\u001b[0m                  [\u001b[38;5;241m14\u001b[39m, \u001b[38;5;241m15\u001b[39m, \u001b[38;5;241m16\u001b[39m]])  \u001b[38;5;66;03m# Shape (4, 3)\u001b[39;00m\n\u001b[0;32m     12\u001b[0m \u001b[38;5;66;03m# Add arr1 to each row of arr2 using broadcasting\u001b[39;00m\n\u001b[1;32m---> 13\u001b[0m result \u001b[38;5;241m=\u001b[39m \u001b[43marr2\u001b[49m\u001b[43m \u001b[49m\u001b[38;5;241;43m+\u001b[39;49m\u001b[43m \u001b[49m\u001b[43marr1\u001b[49m\n\u001b[0;32m     15\u001b[0m \u001b[38;5;28mprint\u001b[39m(\u001b[38;5;124m\"\u001b[39m\u001b[38;5;124mResult after adding arr1 to each row of arr2:\u001b[39m\u001b[38;5;124m\"\u001b[39m)\n\u001b[0;32m     16\u001b[0m \u001b[38;5;28mprint\u001b[39m(result)\n",
      "\u001b[1;31mValueError\u001b[0m: operands could not be broadcast together with shapes (4,3) (1,4) "
     ]
    }
   ],
   "source": [
    "# 38. Given a 1D array arr1 of shape (1, 4) and a 2D array arr2 of shape (4, 3), add arr1 to each row of arr2 using NumPy broadcasting.\n",
    "\n",
    "import numpy as np\n",
    "\n",
    "# Create arrays\n",
    "arr1 = np.array([[1, 2, 3, 4]])  # Shape (1, 4)\n",
    "arr2 = np.array([[5, 6, 7],\n",
    "                 [8, 9, 10],\n",
    "                 [11, 12, 13],\n",
    "                 [14, 15, 16]])  # Shape (4, 3)\n",
    "\n",
    "# Add arr1 to each row of arr2 using broadcasting\n",
    "result = arr2 + arr1\n",
    "\n",
    "print(\"Result after adding arr1 to each row of arr2:\")\n",
    "print(result)"
   ]
  },
  {
   "cell_type": "code",
   "execution_count": null,
   "id": "034e1c59-5d0a-48d9-9b24-95f1638b5536",
   "metadata": {},
   "outputs": [],
   "source": []
  }
 ],
 "metadata": {
  "kernelspec": {
   "display_name": "Python 3 (ipykernel)",
   "language": "python",
   "name": "python3"
  },
  "language_info": {
   "codemirror_mode": {
    "name": "ipython",
    "version": 3
   },
   "file_extension": ".py",
   "mimetype": "text/x-python",
   "name": "python",
   "nbconvert_exporter": "python",
   "pygments_lexer": "ipython3",
   "version": "3.12.4"
  }
 },
 "nbformat": 4,
 "nbformat_minor": 5
}
